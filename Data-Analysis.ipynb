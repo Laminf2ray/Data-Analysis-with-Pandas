{
 "cells": [
  {
   "cell_type": "markdown",
   "id": "3bb52c00-1c55-4b97-84c1-37c25a35515b",
   "metadata": {},
   "source": [
    "# <span style='color:white;'> Data Analysis with Pandas</span>\n",
    "Below are the approaches used to complete the task:\n",
    "- Program in Python using Jupyter Notebook.\n",
    "- Perform data analysis using Pandas.\n",
    "- Perform data pre-processing methods.\n",
    "- Analyse and summarise the dataset by finding facts from the data.\n",
    "\n",
    "In this notebook, we will use Pandas to read the **customers** dataset and perform some basic analysis to improve our understanding of the dataset by completing the notebook.\n",
    "\n",
    "We will also use matplotlib to visualise the data.\n",
    "\n",
    "In this notebook, we will apply data pre-processing, a vital data mining phase. We will use **sklearn** for algorithms for data mining (and machine learning).\n",
    "\n",
    "### <span style='color:white;'> Exploratory analysis: Loading and exploring the dataset</span>\n",
    "\n",
    "Let's read the dataset into a data frame and perform some basic analysis to gain a firsthand understanding of the dataset we are working on, such as its minimum and maximum values, whether there are NULL values in the dataset, etc.\n",
    "\n",
    "Before we build the models or form any hypothesis, we must gain these useful insights into the dataset. This will give us a direction for what type of stories can be discovered for the given dataset.\n",
    "\n",
    "### <span style='color:white;'>Pandas library:</span> \n",
    "Pandas is a Python package that is handy while working with data files. It is used for data analysis, such as operation, pre-processing, manipulation and munging."
   ]
  },
  {
   "cell_type": "code",
   "execution_count": 8,
   "id": "e031fecc-4bee-4689-bc24-0f6264100632",
   "metadata": {},
   "outputs": [],
   "source": [
    "# Importing necessary libraries\n",
    "\n",
    "import pandas as pd\n",
    "import numpy as np\n",
    "import matplotlib.pyplot as plt\n",
    "%matplotlib inline"
   ]
  },
  {
   "cell_type": "code",
   "execution_count": 169,
   "id": "67cb6d7b-a570-49a5-a2b3-a25c11d8341f",
   "metadata": {},
   "outputs": [
    {
     "data": {
      "text/html": [
       "<div>\n",
       "<style scoped>\n",
       "    .dataframe tbody tr th:only-of-type {\n",
       "        vertical-align: middle;\n",
       "    }\n",
       "\n",
       "    .dataframe tbody tr th {\n",
       "        vertical-align: top;\n",
       "    }\n",
       "\n",
       "    .dataframe thead th {\n",
       "        text-align: right;\n",
       "    }\n",
       "</style>\n",
       "<table border=\"1\" class=\"dataframe\">\n",
       "  <thead>\n",
       "    <tr style=\"text-align: right;\">\n",
       "      <th></th>\n",
       "      <th>CustomerKey</th>\n",
       "      <th>Country</th>\n",
       "      <th>Age</th>\n",
       "      <th>MaritalStatus</th>\n",
       "      <th>Gender</th>\n",
       "      <th>YearlyIncome</th>\n",
       "      <th>TotalChildren</th>\n",
       "      <th>NumberChildrenAtHome</th>\n",
       "      <th>Education</th>\n",
       "      <th>Occupation</th>\n",
       "      <th>HouseOwnerFlag</th>\n",
       "      <th>NumberCarsOwned</th>\n",
       "      <th>class_label</th>\n",
       "    </tr>\n",
       "  </thead>\n",
       "  <tbody>\n",
       "    <tr>\n",
       "      <th>0</th>\n",
       "      <td>11000</td>\n",
       "      <td>Australia</td>\n",
       "      <td>43</td>\n",
       "      <td>M</td>\n",
       "      <td>M</td>\n",
       "      <td>90000</td>\n",
       "      <td>2</td>\n",
       "      <td>0</td>\n",
       "      <td>Bachelors</td>\n",
       "      <td>Professional</td>\n",
       "      <td>1</td>\n",
       "      <td>0</td>\n",
       "      <td>&gt; 50K</td>\n",
       "    </tr>\n",
       "    <tr>\n",
       "      <th>1</th>\n",
       "      <td>11001</td>\n",
       "      <td>Australia</td>\n",
       "      <td>38</td>\n",
       "      <td>S</td>\n",
       "      <td>M</td>\n",
       "      <td>60000</td>\n",
       "      <td>3</td>\n",
       "      <td>3</td>\n",
       "      <td>Bachelors</td>\n",
       "      <td>Professional</td>\n",
       "      <td>0</td>\n",
       "      <td>1</td>\n",
       "      <td>&gt; 50K</td>\n",
       "    </tr>\n",
       "    <tr>\n",
       "      <th>2</th>\n",
       "      <td>11002</td>\n",
       "      <td>Australia</td>\n",
       "      <td>43</td>\n",
       "      <td>M</td>\n",
       "      <td>M</td>\n",
       "      <td>60000</td>\n",
       "      <td>3</td>\n",
       "      <td>3</td>\n",
       "      <td>Bachelors</td>\n",
       "      <td>Professional</td>\n",
       "      <td>1</td>\n",
       "      <td>1</td>\n",
       "      <td>&gt; 50K</td>\n",
       "    </tr>\n",
       "    <tr>\n",
       "      <th>3</th>\n",
       "      <td>11003</td>\n",
       "      <td>Australia</td>\n",
       "      <td>41</td>\n",
       "      <td>S</td>\n",
       "      <td>F</td>\n",
       "      <td>70000</td>\n",
       "      <td>0</td>\n",
       "      <td>0</td>\n",
       "      <td>Bachelors</td>\n",
       "      <td>Professional</td>\n",
       "      <td>0</td>\n",
       "      <td>1</td>\n",
       "      <td>&gt; 50K</td>\n",
       "    </tr>\n",
       "    <tr>\n",
       "      <th>4</th>\n",
       "      <td>11004</td>\n",
       "      <td>Australia</td>\n",
       "      <td>35</td>\n",
       "      <td>S</td>\n",
       "      <td>F</td>\n",
       "      <td>80000</td>\n",
       "      <td>5</td>\n",
       "      <td>5</td>\n",
       "      <td>Bachelors</td>\n",
       "      <td>Professional</td>\n",
       "      <td>1</td>\n",
       "      <td>4</td>\n",
       "      <td>&gt; 50K</td>\n",
       "    </tr>\n",
       "  </tbody>\n",
       "</table>\n",
       "</div>"
      ],
      "text/plain": [
       "   CustomerKey    Country  Age MaritalStatus Gender  YearlyIncome  \\\n",
       "0        11000  Australia   43             M      M         90000   \n",
       "1        11001  Australia   38             S      M         60000   \n",
       "2        11002  Australia   43             M      M         60000   \n",
       "3        11003  Australia   41             S      F         70000   \n",
       "4        11004  Australia   35             S      F         80000   \n",
       "\n",
       "   TotalChildren  NumberChildrenAtHome  Education    Occupation  \\\n",
       "0              2                     0  Bachelors  Professional   \n",
       "1              3                     3  Bachelors  Professional   \n",
       "2              3                     3  Bachelors  Professional   \n",
       "3              0                     0  Bachelors  Professional   \n",
       "4              5                     5  Bachelors  Professional   \n",
       "\n",
       "   HouseOwnerFlag  NumberCarsOwned class_label  \n",
       "0               1                0       > 50K  \n",
       "1               0                1       > 50K  \n",
       "2               1                1       > 50K  \n",
       "3               0                1       > 50K  \n",
       "4               1                4       > 50K  "
      ]
     },
     "execution_count": 169,
     "metadata": {},
     "output_type": "execute_result"
    }
   ],
   "source": [
    "# Loading the dataset to a dataframe\n",
    "data = pd.read_csv('Customers.csv')\n",
    "data.head()"
   ]
  },
  {
   "cell_type": "markdown",
   "id": "13181445-8450-4a8f-932b-51fa114f7106",
   "metadata": {},
   "source": [
    "The above cell display the first five rows of the dataframe."
   ]
  },
  {
   "cell_type": "code",
   "execution_count": 172,
   "id": "3f4af30d-6fd1-4cff-996a-77ac20658263",
   "metadata": {},
   "outputs": [
    {
     "data": {
      "text/html": [
       "<div>\n",
       "<style scoped>\n",
       "    .dataframe tbody tr th:only-of-type {\n",
       "        vertical-align: middle;\n",
       "    }\n",
       "\n",
       "    .dataframe tbody tr th {\n",
       "        vertical-align: top;\n",
       "    }\n",
       "\n",
       "    .dataframe thead th {\n",
       "        text-align: right;\n",
       "    }\n",
       "</style>\n",
       "<table border=\"1\" class=\"dataframe\">\n",
       "  <thead>\n",
       "    <tr style=\"text-align: right;\">\n",
       "      <th></th>\n",
       "      <th>CustomerKey</th>\n",
       "      <th>Country</th>\n",
       "      <th>Age</th>\n",
       "      <th>MaritalStatus</th>\n",
       "      <th>Gender</th>\n",
       "      <th>YearlyIncome</th>\n",
       "      <th>TotalChildren</th>\n",
       "      <th>NumberChildrenAtHome</th>\n",
       "      <th>Education</th>\n",
       "      <th>Occupation</th>\n",
       "      <th>HouseOwnerFlag</th>\n",
       "      <th>NumberCarsOwned</th>\n",
       "      <th>class_label</th>\n",
       "    </tr>\n",
       "  </thead>\n",
       "  <tbody>\n",
       "    <tr>\n",
       "      <th>18479</th>\n",
       "      <td>29479</td>\n",
       "      <td>France</td>\n",
       "      <td>45</td>\n",
       "      <td>M</td>\n",
       "      <td>M</td>\n",
       "      <td>30000</td>\n",
       "      <td>1</td>\n",
       "      <td>0</td>\n",
       "      <td>Graduate Degree</td>\n",
       "      <td>Clerical</td>\n",
       "      <td>1</td>\n",
       "      <td>0</td>\n",
       "      <td>&lt;= 50K</td>\n",
       "    </tr>\n",
       "    <tr>\n",
       "      <th>18480</th>\n",
       "      <td>29480</td>\n",
       "      <td>United Kingdom</td>\n",
       "      <td>37</td>\n",
       "      <td>S</td>\n",
       "      <td>F</td>\n",
       "      <td>30000</td>\n",
       "      <td>3</td>\n",
       "      <td>0</td>\n",
       "      <td>Graduate Degree</td>\n",
       "      <td>Clerical</td>\n",
       "      <td>1</td>\n",
       "      <td>0</td>\n",
       "      <td>&lt;= 50K</td>\n",
       "    </tr>\n",
       "    <tr>\n",
       "      <th>18481</th>\n",
       "      <td>29481</td>\n",
       "      <td>Germany</td>\n",
       "      <td>49</td>\n",
       "      <td>S</td>\n",
       "      <td>M</td>\n",
       "      <td>30000</td>\n",
       "      <td>3</td>\n",
       "      <td>0</td>\n",
       "      <td>Graduate Degree</td>\n",
       "      <td>Clerical</td>\n",
       "      <td>0</td>\n",
       "      <td>0</td>\n",
       "      <td>&lt;= 50K</td>\n",
       "    </tr>\n",
       "    <tr>\n",
       "      <th>18482</th>\n",
       "      <td>29482</td>\n",
       "      <td>France</td>\n",
       "      <td>50</td>\n",
       "      <td>M</td>\n",
       "      <td>M</td>\n",
       "      <td>30000</td>\n",
       "      <td>3</td>\n",
       "      <td>0</td>\n",
       "      <td>Bachelors</td>\n",
       "      <td>Clerical</td>\n",
       "      <td>1</td>\n",
       "      <td>0</td>\n",
       "      <td>&lt;= 50K</td>\n",
       "    </tr>\n",
       "    <tr>\n",
       "      <th>18483</th>\n",
       "      <td>29483</td>\n",
       "      <td>France</td>\n",
       "      <td>49</td>\n",
       "      <td>M</td>\n",
       "      <td>M</td>\n",
       "      <td>30000</td>\n",
       "      <td>0</td>\n",
       "      <td>0</td>\n",
       "      <td>Bachelors</td>\n",
       "      <td>Clerical</td>\n",
       "      <td>1</td>\n",
       "      <td>0</td>\n",
       "      <td>&lt;= 50K</td>\n",
       "    </tr>\n",
       "  </tbody>\n",
       "</table>\n",
       "</div>"
      ],
      "text/plain": [
       "       CustomerKey         Country  Age MaritalStatus Gender  YearlyIncome  \\\n",
       "18479        29479          France   45             M      M         30000   \n",
       "18480        29480  United Kingdom   37             S      F         30000   \n",
       "18481        29481         Germany   49             S      M         30000   \n",
       "18482        29482          France   50             M      M         30000   \n",
       "18483        29483          France   49             M      M         30000   \n",
       "\n",
       "       TotalChildren  NumberChildrenAtHome        Education Occupation  \\\n",
       "18479              1                     0  Graduate Degree   Clerical   \n",
       "18480              3                     0  Graduate Degree   Clerical   \n",
       "18481              3                     0  Graduate Degree   Clerical   \n",
       "18482              3                     0        Bachelors   Clerical   \n",
       "18483              0                     0        Bachelors   Clerical   \n",
       "\n",
       "       HouseOwnerFlag  NumberCarsOwned class_label  \n",
       "18479               1                0     <= 50K   \n",
       "18480               1                0     <= 50K   \n",
       "18481               0                0     <= 50K   \n",
       "18482               1                0     <= 50K   \n",
       "18483               1                0     <= 50K   "
      ]
     },
     "execution_count": 172,
     "metadata": {},
     "output_type": "execute_result"
    }
   ],
   "source": [
    "data.tail()"
   ]
  },
  {
   "cell_type": "markdown",
   "id": "b9516112-ede1-4bdd-965d-c6c8f39f8594",
   "metadata": {},
   "source": [
    "The above cell display the bottom last five rows of the dataframe."
   ]
  },
  {
   "cell_type": "code",
   "execution_count": 175,
   "id": "4985e8f3-b1aa-466c-9cb6-d9b812c136d5",
   "metadata": {},
   "outputs": [
    {
     "data": {
      "text/plain": [
       "(18484, 13)"
      ]
     },
     "execution_count": 175,
     "metadata": {},
     "output_type": "execute_result"
    }
   ],
   "source": [
    "data.shape"
   ]
  },
  {
   "cell_type": "markdown",
   "id": "c8f97c7c-2d62-42e8-a82b-11869978def7",
   "metadata": {},
   "source": [
    "The data.shape tells us the dimensionality of the dataset. In this case, there are 18484 rows and 13 columns. "
   ]
  },
  {
   "cell_type": "markdown",
   "id": "764e8c6b-91b1-4beb-947a-5c6fc1899c8d",
   "metadata": {},
   "source": [
    "Let's exclude 'CustomerKey' from the descriptive statistics that summarise the central tendency, dispersion and shape of a dataset’s distribution, excluding NaN values.,"
   ]
  },
  {
   "cell_type": "code",
   "execution_count": 179,
   "id": "658b87a4-c5d0-4f4c-b67a-b499dfe3d0e6",
   "metadata": {},
   "outputs": [
    {
     "data": {
      "text/html": [
       "<div>\n",
       "<style scoped>\n",
       "    .dataframe tbody tr th:only-of-type {\n",
       "        vertical-align: middle;\n",
       "    }\n",
       "\n",
       "    .dataframe tbody tr th {\n",
       "        vertical-align: top;\n",
       "    }\n",
       "\n",
       "    .dataframe thead th {\n",
       "        text-align: right;\n",
       "    }\n",
       "</style>\n",
       "<table border=\"1\" class=\"dataframe\">\n",
       "  <thead>\n",
       "    <tr style=\"text-align: right;\">\n",
       "      <th></th>\n",
       "      <th>Age</th>\n",
       "      <th>NumberCarsOwned</th>\n",
       "      <th>NumberChildrenAtHome</th>\n",
       "      <th>HouseOwnerFlag</th>\n",
       "      <th>YearlyIncome</th>\n",
       "      <th>TotalChildren</th>\n",
       "    </tr>\n",
       "  </thead>\n",
       "  <tbody>\n",
       "    <tr>\n",
       "      <th>count</th>\n",
       "      <td>18484.000000</td>\n",
       "      <td>18484.000000</td>\n",
       "      <td>18484.000000</td>\n",
       "      <td>18484.000000</td>\n",
       "      <td>18484.000000</td>\n",
       "      <td>18484.000000</td>\n",
       "    </tr>\n",
       "    <tr>\n",
       "      <th>mean</th>\n",
       "      <td>45.176531</td>\n",
       "      <td>1.502705</td>\n",
       "      <td>1.004058</td>\n",
       "      <td>0.676369</td>\n",
       "      <td>57305.777970</td>\n",
       "      <td>1.844352</td>\n",
       "    </tr>\n",
       "    <tr>\n",
       "      <th>std</th>\n",
       "      <td>11.536142</td>\n",
       "      <td>1.138394</td>\n",
       "      <td>1.522660</td>\n",
       "      <td>0.467874</td>\n",
       "      <td>32285.841703</td>\n",
       "      <td>1.612408</td>\n",
       "    </tr>\n",
       "    <tr>\n",
       "      <th>min</th>\n",
       "      <td>28.000000</td>\n",
       "      <td>0.000000</td>\n",
       "      <td>0.000000</td>\n",
       "      <td>0.000000</td>\n",
       "      <td>10000.000000</td>\n",
       "      <td>0.000000</td>\n",
       "    </tr>\n",
       "    <tr>\n",
       "      <th>25%</th>\n",
       "      <td>36.000000</td>\n",
       "      <td>1.000000</td>\n",
       "      <td>0.000000</td>\n",
       "      <td>0.000000</td>\n",
       "      <td>30000.000000</td>\n",
       "      <td>0.000000</td>\n",
       "    </tr>\n",
       "    <tr>\n",
       "      <th>50%</th>\n",
       "      <td>43.000000</td>\n",
       "      <td>2.000000</td>\n",
       "      <td>0.000000</td>\n",
       "      <td>1.000000</td>\n",
       "      <td>60000.000000</td>\n",
       "      <td>2.000000</td>\n",
       "    </tr>\n",
       "    <tr>\n",
       "      <th>75%</th>\n",
       "      <td>53.000000</td>\n",
       "      <td>2.000000</td>\n",
       "      <td>2.000000</td>\n",
       "      <td>1.000000</td>\n",
       "      <td>70000.000000</td>\n",
       "      <td>3.000000</td>\n",
       "    </tr>\n",
       "    <tr>\n",
       "      <th>max</th>\n",
       "      <td>98.000000</td>\n",
       "      <td>4.000000</td>\n",
       "      <td>5.000000</td>\n",
       "      <td>1.000000</td>\n",
       "      <td>170000.000000</td>\n",
       "      <td>5.000000</td>\n",
       "    </tr>\n",
       "  </tbody>\n",
       "</table>\n",
       "</div>"
      ],
      "text/plain": [
       "                Age  NumberCarsOwned  NumberChildrenAtHome  HouseOwnerFlag  \\\n",
       "count  18484.000000     18484.000000          18484.000000    18484.000000   \n",
       "mean      45.176531         1.502705              1.004058        0.676369   \n",
       "std       11.536142         1.138394              1.522660        0.467874   \n",
       "min       28.000000         0.000000              0.000000        0.000000   \n",
       "25%       36.000000         1.000000              0.000000        0.000000   \n",
       "50%       43.000000         2.000000              0.000000        1.000000   \n",
       "75%       53.000000         2.000000              2.000000        1.000000   \n",
       "max       98.000000         4.000000              5.000000        1.000000   \n",
       "\n",
       "        YearlyIncome  TotalChildren  \n",
       "count   18484.000000   18484.000000  \n",
       "mean    57305.777970       1.844352  \n",
       "std     32285.841703       1.612408  \n",
       "min     10000.000000       0.000000  \n",
       "25%     30000.000000       0.000000  \n",
       "50%     60000.000000       2.000000  \n",
       "75%     70000.000000       3.000000  \n",
       "max    170000.000000       5.000000  "
      ]
     },
     "execution_count": 179,
     "metadata": {},
     "output_type": "execute_result"
    }
   ],
   "source": [
    "cols = set(data.columns) - {'CustomerKey'}\n",
    "data1 = data[list(cols)]\n",
    "data1.describe()"
   ]
  },
  {
   "cell_type": "markdown",
   "id": "bd71ebbb-b75f-46fc-920d-ae7bcc783a03",
   "metadata": {},
   "source": [
    "- **Count** matches the total rows, so no missing values exist.\n",
    "- The mean age is 45 years.\n",
    "- The mean YearlyIncome is 57,305.78.\n",
    "- The minimum yearly income is 10,000, while the maximum is 170,000.\n",
    "- Standard deviation 32285 for '**YearlyIncome**' indicates dispersion from the mean."
   ]
  },
  {
   "cell_type": "code",
   "execution_count": 182,
   "id": "0ca3a499-8ef0-48b4-84fc-ebd37e62ad63",
   "metadata": {},
   "outputs": [
    {
     "data": {
      "text/plain": [
       "1    12502\n",
       "0     5982\n",
       "Name: HouseOwnerFlag, dtype: int64"
      ]
     },
     "execution_count": 182,
     "metadata": {},
     "output_type": "execute_result"
    }
   ],
   "source": [
    "data['HouseOwnerFlag'].value_counts()"
   ]
  },
  {
   "cell_type": "markdown",
   "id": "bc7bd071-ff45-4354-9981-9e0b70a353ea",
   "metadata": {},
   "source": [
    "- The cell above shows the number customers how owners house and those who don't."
   ]
  },
  {
   "cell_type": "code",
   "execution_count": 185,
   "id": "95139e24-ac9b-4af4-a6a0-6356064982e0",
   "metadata": {},
   "outputs": [
    {
     "data": {
      "text/plain": [
       "2    6457\n",
       "1    4883\n",
       "0    4238\n",
       "3    1645\n",
       "4    1261\n",
       "Name: NumberCarsOwned, dtype: int64"
      ]
     },
     "execution_count": 185,
     "metadata": {},
     "output_type": "execute_result"
    }
   ],
   "source": [
    "data['NumberCarsOwned'].value_counts()"
   ]
  },
  {
   "cell_type": "markdown",
   "id": "d6166259-c455-4cba-b046-4a9f16ea383f",
   "metadata": {},
   "source": [
    "- The cell above tells us the number of cars each customer owned."
   ]
  },
  {
   "cell_type": "markdown",
   "id": "20232a2f-212f-4c42-b132-3eb4af63554a",
   "metadata": {},
   "source": [
    "Let's visualise 'Age' through graphs instead to make observations."
   ]
  },
  {
   "cell_type": "code",
   "execution_count": 191,
   "id": "e8083b17-31d8-40d8-8df0-b7aa6e192854",
   "metadata": {},
   "outputs": [
    {
     "data": {
      "text/plain": [
       "<AxesSubplot:>"
      ]
     },
     "execution_count": 191,
     "metadata": {},
     "output_type": "execute_result"
    },
    {
     "data": {
      "image/png": "[encoded data removed]",
      "text/plain": [
       "<Figure size 640x480 with 1 Axes>"
      ]
     },
     "metadata": {},
     "output_type": "display_data"
    }
   ],
   "source": [
    "data.boxplot(column='Age', grid=0)"
   ]
  },
  {
   "cell_type": "code",
   "execution_count": 193,
   "id": "13995309-af37-4adc-9a33-2c696a468be2",
   "metadata": {},
   "outputs": [
    {
     "data": {
      "text/plain": [
       "<AxesSubplot:>"
      ]
     },
     "execution_count": 193,
     "metadata": {},
     "output_type": "execute_result"
    },
    {
     "data": {
      "image/png": "[encoded data removed]",
      "text/plain": [
       "<Figure size 640x480 with 1 Axes>"
      ]
     },
     "metadata": {},
     "output_type": "display_data"
    }
   ],
   "source": [
    "data['Age'].hist(bins=100, grid=0)"
   ]
  },
  {
   "cell_type": "code",
   "execution_count": 195,
   "id": "d81d6f16-8382-4187-93d9-3c572247927a",
   "metadata": {},
   "outputs": [
    {
     "data": {
      "text/plain": [
       "Index(['CustomerKey', 'Country', 'Age', 'MaritalStatus', 'Gender',\n",
       "       'YearlyIncome', 'TotalChildren', 'NumberChildrenAtHome', 'Education',\n",
       "       'Occupation', 'HouseOwnerFlag', 'NumberCarsOwned', 'class_label'],\n",
       "      dtype='object')"
      ]
     },
     "execution_count": 195,
     "metadata": {},
     "output_type": "execute_result"
    }
   ],
   "source": [
    "data.columns"
   ]
  },
  {
   "cell_type": "code",
   "execution_count": 197,
   "id": "6b090298-d1d7-4dd0-9140-4de099eb069f",
   "metadata": {},
   "outputs": [
    {
     "data": {
      "text/plain": [
       "United States     7819\n",
       "Australia         3591\n",
       "United Kingdom    1913\n",
       "France            1810\n",
       "Germany           1780\n",
       "Canada            1571\n",
       "Name: Country, dtype: int64"
      ]
     },
     "execution_count": 197,
     "metadata": {},
     "output_type": "execute_result"
    }
   ],
   "source": [
    "data['Country'].value_counts()"
   ]
  },
  {
   "cell_type": "markdown",
   "id": "4dad917b-4651-4abe-900f-1f103dc25b8f",
   "metadata": {},
   "source": [
    "- United States has the largest customer based follow by Australia while the country with the lowest customer based is Canada."
   ]
  },
  {
   "cell_type": "code",
   "execution_count": 200,
   "id": "9b2da46a-90fd-4e42-8eb6-5848e4e4dc44",
   "metadata": {},
   "outputs": [
    {
     "data": {
      "text/plain": [
       "M    10011\n",
       "S     8473\n",
       "Name: MaritalStatus, dtype: int64"
      ]
     },
     "execution_count": 200,
     "metadata": {},
     "output_type": "execute_result"
    }
   ],
   "source": [
    "data['MaritalStatus'].value_counts()"
   ]
  },
  {
   "cell_type": "markdown",
   "id": "5ebefc66-5ff1-437c-8917-9cd50313e2d3",
   "metadata": {},
   "source": [
    "- The above cell tells us the number customers married and single."
   ]
  },
  {
   "cell_type": "code",
   "execution_count": 203,
   "id": "26556974-653f-43a9-8118-f43d2b21b48f",
   "metadata": {},
   "outputs": [
    {
     "data": {
      "text/plain": [
       "M    9351\n",
       "F    9133\n",
       "Name: Gender, dtype: int64"
      ]
     },
     "execution_count": 203,
     "metadata": {},
     "output_type": "execute_result"
    }
   ],
   "source": [
    "data['Gender'].value_counts()"
   ]
  },
  {
   "cell_type": "markdown",
   "id": "add127b2-50eb-4ad0-8774-75c9ea9232d2",
   "metadata": {},
   "source": [
    "- The cell above tells the number female customers and male customers."
   ]
  },
  {
   "cell_type": "code",
   "execution_count": 208,
   "id": "6a8d8aab-e9c1-434a-bc19-6d709e20c67c",
   "metadata": {},
   "outputs": [
    {
     "data": {
      "text/plain": [
       "Professional      5520\n",
       "Skilled Manual    4577\n",
       "Management        3075\n",
       "Clerical          2928\n",
       "Manual            2384\n",
       "Name: Occupation, dtype: int64"
      ]
     },
     "execution_count": 208,
     "metadata": {},
     "output_type": "execute_result"
    }
   ],
   "source": [
    "data['Occupation'].value_counts()"
   ]
  },
  {
   "cell_type": "markdown",
   "id": "3e20140b-d474-422a-9261-15b7e3a3511d",
   "metadata": {},
   "source": [
    "- The above cell shows frequency distribution of occupation by customers. "
   ]
  },
  {
   "cell_type": "code",
   "execution_count": 210,
   "id": "49126a78-b15d-4207-a70d-7b46c7334eb4",
   "metadata": {},
   "outputs": [
    {
     "data": {
      "text/plain": [
       "Bachelors              5356\n",
       "Partial College        5064\n",
       "High School            3294\n",
       "Graduate Degree        3189\n",
       "Partial High School    1581\n",
       "Name: Education, dtype: int64"
      ]
     },
     "execution_count": 210,
     "metadata": {},
     "output_type": "execute_result"
    }
   ],
   "source": [
    "data['Education'].value_counts()"
   ]
  },
  {
   "cell_type": "markdown",
   "id": "e3b79a4c-df24-4098-bd22-c2fd870a7faf",
   "metadata": {},
   "source": [
    "- The above cell shows frequency distribution of Education by customers. "
   ]
  },
  {
   "cell_type": "markdown",
   "id": "dd19ffc6-dff9-4160-af2b-90d28a814c1e",
   "metadata": {},
   "source": [
    "### <span style='color:white;'> Apply groupby functions in order to summarise the data.</span>\n",
    "\n",
    "Groupby functions are usually used with aggregate functions, which are useful to summarise the dataset and make observations. Some common functions are **SUM**, **MEAN**, **MIN**, **MAX**, and **COUNT**. <b>Using groupby we can answer questions such as:</b>\n",
    "\n",
    "- <b>Question: What is the average of each gender in a given population?</b>\n"
   ]
  },
  {
   "cell_type": "code",
   "execution_count": 214,
   "id": "21f0386d-90b3-4556-b294-0c45f59fe7a2",
   "metadata": {},
   "outputs": [
    {
     "data": {
      "text/plain": [
       "Gender\n",
       "F    45.198839\n",
       "M    45.154743\n",
       "Name: Age, dtype: float64"
      ]
     },
     "execution_count": 214,
     "metadata": {},
     "output_type": "execute_result"
    }
   ],
   "source": [
    "data['Age'].groupby([data['Gender']]).mean()"
   ]
  },
  {
   "cell_type": "markdown",
   "id": "43fc3579-1648-4565-a23d-fb4927fa494f",
   "metadata": {},
   "source": [
    "In the above cell, we group by 'Gender' and computed the mean 'Age'."
   ]
  },
  {
   "cell_type": "markdown",
   "id": "c42a7a36-d404-404e-a45d-2daf4e907464",
   "metadata": {},
   "source": [
    "- What is the average age of male and female across different education categories?"
   ]
  },
  {
   "cell_type": "code",
   "execution_count": 218,
   "id": "f6dd3761-bb28-4dca-9045-86b51a6c4aa0",
   "metadata": {},
   "outputs": [
    {
     "data": {
      "text/plain": [
       "Gender  Education          \n",
       "F       Bachelors              45.176941\n",
       "        Graduate Degree        45.764122\n",
       "        High School            45.211912\n",
       "        Partial College        44.968922\n",
       "        Partial High School    44.816380\n",
       "M       Bachelors              45.144428\n",
       "        Graduate Degree        46.351711\n",
       "        High School            45.284285\n",
       "        Partial College        44.495242\n",
       "        Partial High School    44.648058\n",
       "Name: Age, dtype: float64"
      ]
     },
     "execution_count": 218,
     "metadata": {},
     "output_type": "execute_result"
    }
   ],
   "source": [
    "data['Age'].groupby([data['Gender'], data['Education']]).mean()"
   ]
  },
  {
   "cell_type": "markdown",
   "id": "b2bd1c03-f66f-4a7b-ad9c-8f47b76be150",
   "metadata": {},
   "source": [
    "In the above code we have group by 'Gender' and 'Education' and computed the mean 'Age' of a given population."
   ]
  },
  {
   "cell_type": "code",
   "execution_count": 221,
   "id": "bffa0e73-0b56-4042-a7b5-2a7a4802e619",
   "metadata": {},
   "outputs": [
    {
     "data": {
      "text/plain": [
       "Gender  Education          \n",
       "F       Bachelors              92\n",
       "        Graduate Degree        89\n",
       "        High School            97\n",
       "        Partial College        95\n",
       "        Partial High School    98\n",
       "M       Bachelors              87\n",
       "        Graduate Degree        85\n",
       "        High School            97\n",
       "        Partial College        86\n",
       "        Partial High School    97\n",
       "Name: Age, dtype: int64"
      ]
     },
     "execution_count": 221,
     "metadata": {},
     "output_type": "execute_result"
    }
   ],
   "source": [
    "data['Age'].groupby([data['Gender'], data['Education']]).max()"
   ]
  },
  {
   "cell_type": "markdown",
   "id": "ac629611-c7a3-46a9-9bee-b7f3091bb634",
   "metadata": {},
   "source": [
    "In the above code, we group by 'Gender' and 'Education' and computed maximum 'Age' in the given population."
   ]
  },
  {
   "cell_type": "code",
   "execution_count": 224,
   "id": "c201e888-7aa1-42f2-9ba5-d6195685d292",
   "metadata": {},
   "outputs": [
    {
     "data": {
      "text/plain": [
       "Gender  Occupation    \n",
       "F       Clerical          28\n",
       "        Management        28\n",
       "        Manual            28\n",
       "        Professional      28\n",
       "        Skilled Manual    28\n",
       "M       Clerical          28\n",
       "        Management        28\n",
       "        Manual            28\n",
       "        Professional      28\n",
       "        Skilled Manual    28\n",
       "Name: Age, dtype: int64"
      ]
     },
     "execution_count": 224,
     "metadata": {},
     "output_type": "execute_result"
    }
   ],
   "source": [
    "data['Age'].groupby([data['Gender'], data['Occupation']]).min()"
   ]
  },
  {
   "cell_type": "markdown",
   "id": "d06a5f0b-713e-49ea-ad05-33b1473bdaef",
   "metadata": {},
   "source": [
    "In the above code, we group by 'Gender' and 'Occupation' and computed minimum 'Age' in the given population."
   ]
  },
  {
   "cell_type": "markdown",
   "id": "475b4aa4-2629-4217-ab2f-6cf5b81b9024",
   "metadata": {},
   "source": [
    "## <span style='color:white;'>Data visualisation</span>\n",
    "\n",
    "<b> Matplotlib is python library for visualising data in the form of graphs such as histograms, scatter, box plot, line plots, heat plots, etc.</b>"
   ]
  },
  {
   "cell_type": "code",
   "execution_count": 228,
   "id": "98d7e3ff-0121-4df0-89b8-d2ba3a2a58f3",
   "metadata": {},
   "outputs": [
    {
     "data": {
      "text/plain": [
       "<AxesSubplot:title={'center':'Age'}, xlabel='Education'>"
      ]
     },
     "execution_count": 228,
     "metadata": {},
     "output_type": "execute_result"
    },
    {
     "data": {
      "image/png": "[encoded data removed]",
      "text/plain": [
       "<Figure size 640x480 with 1 Axes>"
      ]
     },
     "metadata": {},
     "output_type": "display_data"
    }
   ],
   "source": [
    "data.boxplot(column='Age', by = 'Education', grid=False, rot=45, fontsize=10)"
   ]
  },
  {
   "cell_type": "code",
   "execution_count": 232,
   "id": "27c85c8c-c7a6-4cf1-ab3c-3510c1909a8f",
   "metadata": {},
   "outputs": [
    {
     "data": {
      "text/plain": [
       "<AxesSubplot:title={'center':'Age'}, xlabel='Occupation'>"
      ]
     },
     "execution_count": 232,
     "metadata": {},
     "output_type": "execute_result"
    },
    {
     "data": {
      "image/png": "[encoded data removed]",
      "text/plain": [
       "<Figure size 640x480 with 1 Axes>"
      ]
     },
     "metadata": {},
     "output_type": "display_data"
    }
   ],
   "source": [
    "data.boxplot(column='Age', by ='Occupation', grid=0, rot = 45, fontsize =10)"
   ]
  },
  {
   "cell_type": "markdown",
   "id": "bc6104ae-c6a3-406f-bcad-5c64c20a6814",
   "metadata": {},
   "source": [
    "<b>After performing some basic data analysis, let's look at data pre-processing to improve the dataset's quality.</b>\n",
    "\n",
    "Data pre-processing is an essential step in the process. Row data can be unstructured and full of noise. The aim of this phase is to clean the row data, reduce noise, and prepare the dataset that the algorithm can accept as input."
   ]
  },
  {
   "cell_type": "markdown",
   "id": "55af3cc2-321a-42da-b170-59fc78ad7d33",
   "metadata": {},
   "source": [
    "<b> Check for NULL values in the dataset</b>\n",
    "\n",
    "Earlier, we used the 'discribe()' function, which indicates there are no NULL values in the dataset. However, we will use the code below to check for NULL values once again."
   ]
  },
  {
   "cell_type": "code",
   "execution_count": 236,
   "id": "952fd522-7b88-460d-8e2c-38b4addde524",
   "metadata": {},
   "outputs": [
    {
     "data": {
      "text/plain": [
       "CustomerKey             0\n",
       "Country                 0\n",
       "Age                     0\n",
       "MaritalStatus           0\n",
       "Gender                  0\n",
       "YearlyIncome            0\n",
       "TotalChildren           0\n",
       "NumberChildrenAtHome    0\n",
       "Education               0\n",
       "Occupation              0\n",
       "HouseOwnerFlag          0\n",
       "NumberCarsOwned         0\n",
       "class_label             0\n",
       "dtype: int64"
      ]
     },
     "execution_count": 236,
     "metadata": {},
     "output_type": "execute_result"
    }
   ],
   "source": [
    "data.apply(lambda x: sum(x.isnull()), axis =0)"
   ]
  },
  {
   "cell_type": "markdown",
   "id": "6c85989e-601f-47f8-b027-3303906fd823",
   "metadata": {},
   "source": [
    "## <span style='color:white;'> Data transformation</span>\n",
    "\n",
    "Some attributes are categorical; therefore, (statistical) analysis of them is not possible. We need to convert all categorical variables (string labels) into numeric by encoding them. Package 'sklearn' provides a 'LabelEncoder' library for encoding labels between 0 to n-1 discrete values/labels, where n is the number of values/labels. E.g.:\n",
    "\n",
    "<div style=\"text-align:center\"> Male -> 0 </div>\n",
    "\n",
    "<div style=\"text-align:center\"> Female -> 1 </div>"
   ]
  },
  {
   "cell_type": "code",
   "execution_count": 239,
   "id": "12c51368-1549-4254-90cd-19f2b3e582d2",
   "metadata": {},
   "outputs": [],
   "source": [
    "from sklearn.preprocessing import LabelEncoder"
   ]
  },
  {
   "cell_type": "code",
   "execution_count": 241,
   "id": "b4941ebc-9f58-4ff9-a4c7-538ba4ef4787",
   "metadata": {},
   "outputs": [
    {
     "data": {
      "text/html": [
       "<div>\n",
       "<style scoped>\n",
       "    .dataframe tbody tr th:only-of-type {\n",
       "        vertical-align: middle;\n",
       "    }\n",
       "\n",
       "    .dataframe tbody tr th {\n",
       "        vertical-align: top;\n",
       "    }\n",
       "\n",
       "    .dataframe thead th {\n",
       "        text-align: right;\n",
       "    }\n",
       "</style>\n",
       "<table border=\"1\" class=\"dataframe\">\n",
       "  <thead>\n",
       "    <tr style=\"text-align: right;\">\n",
       "      <th></th>\n",
       "      <th>CustomerKey</th>\n",
       "      <th>Country</th>\n",
       "      <th>Age</th>\n",
       "      <th>MaritalStatus</th>\n",
       "      <th>Gender</th>\n",
       "      <th>YearlyIncome</th>\n",
       "      <th>TotalChildren</th>\n",
       "      <th>NumberChildrenAtHome</th>\n",
       "      <th>Education</th>\n",
       "      <th>Occupation</th>\n",
       "      <th>HouseOwnerFlag</th>\n",
       "      <th>NumberCarsOwned</th>\n",
       "      <th>class_label</th>\n",
       "    </tr>\n",
       "  </thead>\n",
       "  <tbody>\n",
       "    <tr>\n",
       "      <th>0</th>\n",
       "      <td>11000</td>\n",
       "      <td>Australia</td>\n",
       "      <td>43</td>\n",
       "      <td>M</td>\n",
       "      <td>M</td>\n",
       "      <td>90000</td>\n",
       "      <td>2</td>\n",
       "      <td>0</td>\n",
       "      <td>Bachelors</td>\n",
       "      <td>Professional</td>\n",
       "      <td>1</td>\n",
       "      <td>0</td>\n",
       "      <td>&gt; 50K</td>\n",
       "    </tr>\n",
       "    <tr>\n",
       "      <th>1</th>\n",
       "      <td>11001</td>\n",
       "      <td>Australia</td>\n",
       "      <td>38</td>\n",
       "      <td>S</td>\n",
       "      <td>M</td>\n",
       "      <td>60000</td>\n",
       "      <td>3</td>\n",
       "      <td>3</td>\n",
       "      <td>Bachelors</td>\n",
       "      <td>Professional</td>\n",
       "      <td>0</td>\n",
       "      <td>1</td>\n",
       "      <td>&gt; 50K</td>\n",
       "    </tr>\n",
       "    <tr>\n",
       "      <th>2</th>\n",
       "      <td>11002</td>\n",
       "      <td>Australia</td>\n",
       "      <td>43</td>\n",
       "      <td>M</td>\n",
       "      <td>M</td>\n",
       "      <td>60000</td>\n",
       "      <td>3</td>\n",
       "      <td>3</td>\n",
       "      <td>Bachelors</td>\n",
       "      <td>Professional</td>\n",
       "      <td>1</td>\n",
       "      <td>1</td>\n",
       "      <td>&gt; 50K</td>\n",
       "    </tr>\n",
       "    <tr>\n",
       "      <th>3</th>\n",
       "      <td>11003</td>\n",
       "      <td>Australia</td>\n",
       "      <td>41</td>\n",
       "      <td>S</td>\n",
       "      <td>F</td>\n",
       "      <td>70000</td>\n",
       "      <td>0</td>\n",
       "      <td>0</td>\n",
       "      <td>Bachelors</td>\n",
       "      <td>Professional</td>\n",
       "      <td>0</td>\n",
       "      <td>1</td>\n",
       "      <td>&gt; 50K</td>\n",
       "    </tr>\n",
       "    <tr>\n",
       "      <th>4</th>\n",
       "      <td>11004</td>\n",
       "      <td>Australia</td>\n",
       "      <td>35</td>\n",
       "      <td>S</td>\n",
       "      <td>F</td>\n",
       "      <td>80000</td>\n",
       "      <td>5</td>\n",
       "      <td>5</td>\n",
       "      <td>Bachelors</td>\n",
       "      <td>Professional</td>\n",
       "      <td>1</td>\n",
       "      <td>4</td>\n",
       "      <td>&gt; 50K</td>\n",
       "    </tr>\n",
       "  </tbody>\n",
       "</table>\n",
       "</div>"
      ],
      "text/plain": [
       "   CustomerKey    Country  Age MaritalStatus Gender  YearlyIncome  \\\n",
       "0        11000  Australia   43             M      M         90000   \n",
       "1        11001  Australia   38             S      M         60000   \n",
       "2        11002  Australia   43             M      M         60000   \n",
       "3        11003  Australia   41             S      F         70000   \n",
       "4        11004  Australia   35             S      F         80000   \n",
       "\n",
       "   TotalChildren  NumberChildrenAtHome  Education    Occupation  \\\n",
       "0              2                     0  Bachelors  Professional   \n",
       "1              3                     3  Bachelors  Professional   \n",
       "2              3                     3  Bachelors  Professional   \n",
       "3              0                     0  Bachelors  Professional   \n",
       "4              5                     5  Bachelors  Professional   \n",
       "\n",
       "   HouseOwnerFlag  NumberCarsOwned class_label  \n",
       "0               1                0       > 50K  \n",
       "1               0                1       > 50K  \n",
       "2               1                1       > 50K  \n",
       "3               0                1       > 50K  \n",
       "4               1                4       > 50K  "
      ]
     },
     "execution_count": 241,
     "metadata": {},
     "output_type": "execute_result"
    }
   ],
   "source": [
    "data.head()"
   ]
  },
  {
   "cell_type": "code",
   "execution_count": 243,
   "id": "2c03c76c-5ea1-4935-a941-38edb64a1069",
   "metadata": {},
   "outputs": [
    {
     "data": {
      "text/plain": [
       "CustomerKey              int64\n",
       "Country                 object\n",
       "Age                      int64\n",
       "MaritalStatus           object\n",
       "Gender                  object\n",
       "YearlyIncome             int64\n",
       "TotalChildren            int64\n",
       "NumberChildrenAtHome     int64\n",
       "Education               object\n",
       "Occupation              object\n",
       "HouseOwnerFlag           int64\n",
       "NumberCarsOwned          int64\n",
       "class_label             object\n",
       "dtype: object"
      ]
     },
     "execution_count": 243,
     "metadata": {},
     "output_type": "execute_result"
    }
   ],
   "source": [
    "data.dtypes"
   ]
  },
  {
   "cell_type": "code",
   "execution_count": 245,
   "id": "72471c89-d127-4e16-80f4-13e867353c65",
   "metadata": {},
   "outputs": [
    {
     "data": {
      "text/plain": [
       "['Country',\n",
       " 'MaritalStatus',\n",
       " 'Gender',\n",
       " 'Education',\n",
       " 'Occupation',\n",
       " 'class_label']"
      ]
     },
     "execution_count": 245,
     "metadata": {},
     "output_type": "execute_result"
    }
   ],
   "source": [
    "columns = list(data.select_dtypes(exclude=['int64']))\n",
    "columns"
   ]
  },
  {
   "cell_type": "code",
   "execution_count": 247,
   "id": "52086284-f9cd-4152-b3aa-ff66a18bf651",
   "metadata": {},
   "outputs": [
    {
     "data": {
      "text/plain": [
       " > 50K      9858\n",
       " <= 50K     8626\n",
       "Name: class_label, dtype: int64"
      ]
     },
     "execution_count": 247,
     "metadata": {},
     "output_type": "execute_result"
    }
   ],
   "source": [
    "data['class_label'].value_counts()"
   ]
  },
  {
   "cell_type": "code",
   "execution_count": 249,
   "id": "b0f10690-04ae-44ca-a85a-d3d846fad1e6",
   "metadata": {},
   "outputs": [
    {
     "data": {
      "text/plain": [
       "CustomerKey             int64\n",
       "Country                 int32\n",
       "Age                     int64\n",
       "MaritalStatus           int32\n",
       "Gender                  int32\n",
       "YearlyIncome            int64\n",
       "TotalChildren           int64\n",
       "NumberChildrenAtHome    int64\n",
       "Education               int32\n",
       "Occupation              int32\n",
       "HouseOwnerFlag          int64\n",
       "NumberCarsOwned         int64\n",
       "class_label             int32\n",
       "dtype: object"
      ]
     },
     "execution_count": 249,
     "metadata": {},
     "output_type": "execute_result"
    }
   ],
   "source": [
    "le = LabelEncoder()\n",
    "for i in columns:\n",
    "    #print(i)\n",
    "    data[i] = le.fit_transform(data[i])\n",
    "data.dtypes"
   ]
  },
  {
   "cell_type": "code",
   "execution_count": 251,
   "id": "70cb72f2-9200-4aba-b9a9-147a9f34a131",
   "metadata": {},
   "outputs": [
    {
     "data": {
      "text/html": [
       "<div>\n",
       "<style scoped>\n",
       "    .dataframe tbody tr th:only-of-type {\n",
       "        vertical-align: middle;\n",
       "    }\n",
       "\n",
       "    .dataframe tbody tr th {\n",
       "        vertical-align: top;\n",
       "    }\n",
       "\n",
       "    .dataframe thead th {\n",
       "        text-align: right;\n",
       "    }\n",
       "</style>\n",
       "<table border=\"1\" class=\"dataframe\">\n",
       "  <thead>\n",
       "    <tr style=\"text-align: right;\">\n",
       "      <th></th>\n",
       "      <th>CustomerKey</th>\n",
       "      <th>Country</th>\n",
       "      <th>Age</th>\n",
       "      <th>MaritalStatus</th>\n",
       "      <th>Gender</th>\n",
       "      <th>YearlyIncome</th>\n",
       "      <th>TotalChildren</th>\n",
       "      <th>NumberChildrenAtHome</th>\n",
       "      <th>Education</th>\n",
       "      <th>Occupation</th>\n",
       "      <th>HouseOwnerFlag</th>\n",
       "      <th>NumberCarsOwned</th>\n",
       "      <th>class_label</th>\n",
       "    </tr>\n",
       "  </thead>\n",
       "  <tbody>\n",
       "    <tr>\n",
       "      <th>0</th>\n",
       "      <td>11000</td>\n",
       "      <td>0</td>\n",
       "      <td>43</td>\n",
       "      <td>0</td>\n",
       "      <td>1</td>\n",
       "      <td>90000</td>\n",
       "      <td>2</td>\n",
       "      <td>0</td>\n",
       "      <td>0</td>\n",
       "      <td>3</td>\n",
       "      <td>1</td>\n",
       "      <td>0</td>\n",
       "      <td>1</td>\n",
       "    </tr>\n",
       "    <tr>\n",
       "      <th>1</th>\n",
       "      <td>11001</td>\n",
       "      <td>0</td>\n",
       "      <td>38</td>\n",
       "      <td>1</td>\n",
       "      <td>1</td>\n",
       "      <td>60000</td>\n",
       "      <td>3</td>\n",
       "      <td>3</td>\n",
       "      <td>0</td>\n",
       "      <td>3</td>\n",
       "      <td>0</td>\n",
       "      <td>1</td>\n",
       "      <td>1</td>\n",
       "    </tr>\n",
       "    <tr>\n",
       "      <th>2</th>\n",
       "      <td>11002</td>\n",
       "      <td>0</td>\n",
       "      <td>43</td>\n",
       "      <td>0</td>\n",
       "      <td>1</td>\n",
       "      <td>60000</td>\n",
       "      <td>3</td>\n",
       "      <td>3</td>\n",
       "      <td>0</td>\n",
       "      <td>3</td>\n",
       "      <td>1</td>\n",
       "      <td>1</td>\n",
       "      <td>1</td>\n",
       "    </tr>\n",
       "    <tr>\n",
       "      <th>3</th>\n",
       "      <td>11003</td>\n",
       "      <td>0</td>\n",
       "      <td>41</td>\n",
       "      <td>1</td>\n",
       "      <td>0</td>\n",
       "      <td>70000</td>\n",
       "      <td>0</td>\n",
       "      <td>0</td>\n",
       "      <td>0</td>\n",
       "      <td>3</td>\n",
       "      <td>0</td>\n",
       "      <td>1</td>\n",
       "      <td>1</td>\n",
       "    </tr>\n",
       "    <tr>\n",
       "      <th>4</th>\n",
       "      <td>11004</td>\n",
       "      <td>0</td>\n",
       "      <td>35</td>\n",
       "      <td>1</td>\n",
       "      <td>0</td>\n",
       "      <td>80000</td>\n",
       "      <td>5</td>\n",
       "      <td>5</td>\n",
       "      <td>0</td>\n",
       "      <td>3</td>\n",
       "      <td>1</td>\n",
       "      <td>4</td>\n",
       "      <td>1</td>\n",
       "    </tr>\n",
       "  </tbody>\n",
       "</table>\n",
       "</div>"
      ],
      "text/plain": [
       "   CustomerKey  Country  Age  MaritalStatus  Gender  YearlyIncome  \\\n",
       "0        11000        0   43              0       1         90000   \n",
       "1        11001        0   38              1       1         60000   \n",
       "2        11002        0   43              0       1         60000   \n",
       "3        11003        0   41              1       0         70000   \n",
       "4        11004        0   35              1       0         80000   \n",
       "\n",
       "   TotalChildren  NumberChildrenAtHome  Education  Occupation  HouseOwnerFlag  \\\n",
       "0              2                     0          0           3               1   \n",
       "1              3                     3          0           3               0   \n",
       "2              3                     3          0           3               1   \n",
       "3              0                     0          0           3               0   \n",
       "4              5                     5          0           3               1   \n",
       "\n",
       "   NumberCarsOwned  class_label  \n",
       "0                0            1  \n",
       "1                1            1  \n",
       "2                1            1  \n",
       "3                1            1  \n",
       "4                4            1  "
      ]
     },
     "execution_count": 251,
     "metadata": {},
     "output_type": "execute_result"
    }
   ],
   "source": [
    "data.head()"
   ]
  },
  {
   "cell_type": "code",
   "execution_count": 253,
   "id": "77e2f021-2447-4e3f-8cfc-936e66703b75",
   "metadata": {},
   "outputs": [
    {
     "data": {
      "text/plain": [
       "3    5520\n",
       "4    4577\n",
       "1    3075\n",
       "0    2928\n",
       "2    2384\n",
       "Name: Occupation, dtype: int64"
      ]
     },
     "execution_count": 253,
     "metadata": {},
     "output_type": "execute_result"
    }
   ],
   "source": [
    "data['Occupation'].value_counts()"
   ]
  },
  {
   "cell_type": "markdown",
   "id": "d8e965f7-6d21-4365-bf08-b507f14f212c",
   "metadata": {},
   "source": [
    "We can see all the values are now numeric. Now, more computation and analysis can be performed on the dataset."
   ]
  },
  {
   "cell_type": "code",
   "execution_count": 256,
   "id": "54070e16-f669-4acb-92c9-8412dd9d43d7",
   "metadata": {},
   "outputs": [
    {
     "data": {
      "text/plain": [
       "<AxesSubplot:>"
      ]
     },
     "execution_count": 256,
     "metadata": {},
     "output_type": "execute_result"
    },
    {
     "data": {
      "image/png": "[encoded data removed]",
      "text/plain": [
       "<Figure size 640x480 with 1 Axes>"
      ]
     },
     "metadata": {},
     "output_type": "display_data"
    }
   ],
   "source": [
    "data['Country'].hist(bins=100, grid=0)"
   ]
  },
  {
   "cell_type": "code",
   "execution_count": 167,
   "id": "674f7e07-8957-4c34-86de-4ad50e684ca0",
   "metadata": {},
   "outputs": [
    {
     "data": {
      "text/html": [
       "<div>\n",
       "<style scoped>\n",
       "    .dataframe tbody tr th:only-of-type {\n",
       "        vertical-align: middle;\n",
       "    }\n",
       "\n",
       "    .dataframe tbody tr th {\n",
       "        vertical-align: top;\n",
       "    }\n",
       "\n",
       "    .dataframe thead th {\n",
       "        text-align: right;\n",
       "    }\n",
       "</style>\n",
       "<table border=\"1\" class=\"dataframe\">\n",
       "  <thead>\n",
       "    <tr style=\"text-align: right;\">\n",
       "      <th></th>\n",
       "      <th>CustomerKey</th>\n",
       "      <th>Country</th>\n",
       "      <th>Age</th>\n",
       "      <th>MaritalStatus</th>\n",
       "      <th>Gender</th>\n",
       "      <th>YearlyIncome</th>\n",
       "      <th>TotalChildren</th>\n",
       "      <th>NumberChildrenAtHome</th>\n",
       "      <th>EnglishEducation</th>\n",
       "      <th>EnglishOccupation</th>\n",
       "      <th>HouseOwnerFlag</th>\n",
       "      <th>NumberCarsOwned</th>\n",
       "      <th>class_label</th>\n",
       "    </tr>\n",
       "  </thead>\n",
       "  <tbody>\n",
       "    <tr>\n",
       "      <th>count</th>\n",
       "      <td>18484.000000</td>\n",
       "      <td>18484.000000</td>\n",
       "      <td>18484.000000</td>\n",
       "      <td>18484.000000</td>\n",
       "      <td>18484.000000</td>\n",
       "      <td>18484.000000</td>\n",
       "      <td>18484.000000</td>\n",
       "      <td>18484.000000</td>\n",
       "      <td>18484.000000</td>\n",
       "      <td>18484.000000</td>\n",
       "      <td>18484.000000</td>\n",
       "      <td>18484.000000</td>\n",
       "      <td>18484.000000</td>\n",
       "    </tr>\n",
       "    <tr>\n",
       "      <th>mean</th>\n",
       "      <td>20241.500000</td>\n",
       "      <td>3.098788</td>\n",
       "      <td>45.176531</td>\n",
       "      <td>0.458396</td>\n",
       "      <td>0.505897</td>\n",
       "      <td>57305.777970</td>\n",
       "      <td>1.844352</td>\n",
       "      <td>1.004058</td>\n",
       "      <td>1.692978</td>\n",
       "      <td>2.310701</td>\n",
       "      <td>0.676369</td>\n",
       "      <td>1.502705</td>\n",
       "      <td>0.533326</td>\n",
       "    </tr>\n",
       "    <tr>\n",
       "      <th>std</th>\n",
       "      <td>5336.015523</td>\n",
       "      <td>1.993085</td>\n",
       "      <td>11.536142</td>\n",
       "      <td>0.498280</td>\n",
       "      <td>0.499979</td>\n",
       "      <td>32285.841703</td>\n",
       "      <td>1.612408</td>\n",
       "      <td>1.522660</td>\n",
       "      <td>1.361441</td>\n",
       "      <td>1.411622</td>\n",
       "      <td>0.467874</td>\n",
       "      <td>1.138394</td>\n",
       "      <td>0.498902</td>\n",
       "    </tr>\n",
       "    <tr>\n",
       "      <th>min</th>\n",
       "      <td>11000.000000</td>\n",
       "      <td>0.000000</td>\n",
       "      <td>28.000000</td>\n",
       "      <td>0.000000</td>\n",
       "      <td>0.000000</td>\n",
       "      <td>10000.000000</td>\n",
       "      <td>0.000000</td>\n",
       "      <td>0.000000</td>\n",
       "      <td>0.000000</td>\n",
       "      <td>0.000000</td>\n",
       "      <td>0.000000</td>\n",
       "      <td>0.000000</td>\n",
       "      <td>0.000000</td>\n",
       "    </tr>\n",
       "    <tr>\n",
       "      <th>25%</th>\n",
       "      <td>15620.750000</td>\n",
       "      <td>1.000000</td>\n",
       "      <td>36.000000</td>\n",
       "      <td>0.000000</td>\n",
       "      <td>0.000000</td>\n",
       "      <td>30000.000000</td>\n",
       "      <td>0.000000</td>\n",
       "      <td>0.000000</td>\n",
       "      <td>0.000000</td>\n",
       "      <td>1.000000</td>\n",
       "      <td>0.000000</td>\n",
       "      <td>1.000000</td>\n",
       "      <td>0.000000</td>\n",
       "    </tr>\n",
       "    <tr>\n",
       "      <th>50%</th>\n",
       "      <td>20241.500000</td>\n",
       "      <td>4.000000</td>\n",
       "      <td>43.000000</td>\n",
       "      <td>0.000000</td>\n",
       "      <td>1.000000</td>\n",
       "      <td>60000.000000</td>\n",
       "      <td>2.000000</td>\n",
       "      <td>0.000000</td>\n",
       "      <td>2.000000</td>\n",
       "      <td>3.000000</td>\n",
       "      <td>1.000000</td>\n",
       "      <td>2.000000</td>\n",
       "      <td>1.000000</td>\n",
       "    </tr>\n",
       "    <tr>\n",
       "      <th>75%</th>\n",
       "      <td>24862.250000</td>\n",
       "      <td>5.000000</td>\n",
       "      <td>53.000000</td>\n",
       "      <td>1.000000</td>\n",
       "      <td>1.000000</td>\n",
       "      <td>70000.000000</td>\n",
       "      <td>3.000000</td>\n",
       "      <td>2.000000</td>\n",
       "      <td>3.000000</td>\n",
       "      <td>3.000000</td>\n",
       "      <td>1.000000</td>\n",
       "      <td>2.000000</td>\n",
       "      <td>1.000000</td>\n",
       "    </tr>\n",
       "    <tr>\n",
       "      <th>max</th>\n",
       "      <td>29483.000000</td>\n",
       "      <td>5.000000</td>\n",
       "      <td>98.000000</td>\n",
       "      <td>1.000000</td>\n",
       "      <td>1.000000</td>\n",
       "      <td>170000.000000</td>\n",
       "      <td>5.000000</td>\n",
       "      <td>5.000000</td>\n",
       "      <td>4.000000</td>\n",
       "      <td>4.000000</td>\n",
       "      <td>1.000000</td>\n",
       "      <td>4.000000</td>\n",
       "      <td>1.000000</td>\n",
       "    </tr>\n",
       "  </tbody>\n",
       "</table>\n",
       "</div>"
      ],
      "text/plain": [
       "        CustomerKey       Country           Age  MaritalStatus        Gender  \\\n",
       "count  18484.000000  18484.000000  18484.000000   18484.000000  18484.000000   \n",
       "mean   20241.500000      3.098788     45.176531       0.458396      0.505897   \n",
       "std     5336.015523      1.993085     11.536142       0.498280      0.499979   \n",
       "min    11000.000000      0.000000     28.000000       0.000000      0.000000   \n",
       "25%    15620.750000      1.000000     36.000000       0.000000      0.000000   \n",
       "50%    20241.500000      4.000000     43.000000       0.000000      1.000000   \n",
       "75%    24862.250000      5.000000     53.000000       1.000000      1.000000   \n",
       "max    29483.000000      5.000000     98.000000       1.000000      1.000000   \n",
       "\n",
       "        YearlyIncome  TotalChildren  NumberChildrenAtHome  EnglishEducation  \\\n",
       "count   18484.000000   18484.000000          18484.000000      18484.000000   \n",
       "mean    57305.777970       1.844352              1.004058          1.692978   \n",
       "std     32285.841703       1.612408              1.522660          1.361441   \n",
       "min     10000.000000       0.000000              0.000000          0.000000   \n",
       "25%     30000.000000       0.000000              0.000000          0.000000   \n",
       "50%     60000.000000       2.000000              0.000000          2.000000   \n",
       "75%     70000.000000       3.000000              2.000000          3.000000   \n",
       "max    170000.000000       5.000000              5.000000          4.000000   \n",
       "\n",
       "       EnglishOccupation  HouseOwnerFlag  NumberCarsOwned   class_label  \n",
       "count       18484.000000    18484.000000     18484.000000  18484.000000  \n",
       "mean            2.310701        0.676369         1.502705      0.533326  \n",
       "std             1.411622        0.467874         1.138394      0.498902  \n",
       "min             0.000000        0.000000         0.000000      0.000000  \n",
       "25%             1.000000        0.000000         1.000000      0.000000  \n",
       "50%             3.000000        1.000000         2.000000      1.000000  \n",
       "75%             3.000000        1.000000         2.000000      1.000000  \n",
       "max             4.000000        1.000000         4.000000      1.000000  "
      ]
     },
     "execution_count": 167,
     "metadata": {},
     "output_type": "execute_result"
    }
   ],
   "source": [
    "data.describe(include='all')"
   ]
  },
  {
   "cell_type": "markdown",
   "id": "1d7aa6f8-99b8-4f8d-8cc2-9572459af574",
   "metadata": {},
   "source": [
    "<span style='color:white;'>Conclusion:</span>\n",
    "\n",
    "- We performed some basic anaylsis which improved our understanding of the dataset.\n",
    "- We applied group by functions to summarise the data.\n",
    "- We performed data visualisation with the application of Matplotlib which is a python library for visualising data in the form graphs. \n",
    "- After performing some basic data analysis, we then performed data pre-processing which improved the quality of our dataset."
   ]
  },
  {
   "cell_type": "code",
   "execution_count": null,
   "id": "20225664-299b-4a3f-8d1f-757cd3dc7dec",
   "metadata": {},
   "outputs": [],
   "source": []
  }
 ],
 "metadata": {
  "kernelspec": {
   "display_name": "Python 3 (ipykernel)",
   "language": "python",
   "name": "python3"
  },
  "language_info": {
   "codemirror_mode": {
    "name": "ipython",
    "version": 3
   },
   "file_extension": ".py",
   "mimetype": "text/x-python",
   "name": "python",
   "nbconvert_exporter": "python",
   "pygments_lexer": "ipython3",
   "version": "3.9.19"
  }
 },
 "nbformat": 4,
 "nbformat_minor": 5
}
